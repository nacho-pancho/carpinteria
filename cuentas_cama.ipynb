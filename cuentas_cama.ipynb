{
 "cells": [
  {
   "cell_type": "code",
   "execution_count": 2,
   "id": "cda0de46-e8db-4b36-9dd6-4185e84e55cb",
   "metadata": {},
   "outputs": [
    {
     "name": "stdout",
     "output_type": "stream",
     "text": [
      "Overwriting auto display for cadquery Workplane and Shape\n",
      "\n",
      "Versions:\n",
      "- jupyter_cadquery  4.0.2\n",
      "- cad_viewer_widget 3.0.2\n",
      "- open cascade      7.7.2.0\n",
      "\n"
     ]
    }
   ],
   "source": [
    "import cadquery as cq\n",
    "import jupyter_cadquery as jcq\n",
    "jcq.versions()"
   ]
  },
  {
   "cell_type": "markdown",
   "id": "565a5d63-60ef-4a5b-b859-6693905ee0a4",
   "metadata": {},
   "source": [
    "# Cuentas\n",
    "\n",
    "## Medidas \n",
    "\n",
    " * Dos plazas: 140-150 cm de ancho x 190-200 cm de largo\n",
    " * Aparentemente en Uruguay la mas comun es 140x190\n",
    " * Una plaza y media es 105-110 x 190-200\n",
    " * Lo más común es lo más chico, aparentemente\n",
    " * Voy a parametrizar el diseño en esas \n",
    "\n",
    " ## Diseño\n",
    "\n",
    " * Mi idea es hacer una cama más bien baja, con dos cajones abajo. \n",
    " * La idea es dejar el medio libre para reforzar con una quinta pata.\n",
    " * Necesito espacio vertical para:\n",
    "   * Cajones\n",
    "       * Rueditas de cajones\n",
    "       * Soporte del cajón (maderas bajo la base del cajón)\n",
    "       * Espacio interior de cajon\n",
    "   * Parrilla\n",
    "       * Marco de parrilla\n",
    "       * Parrilla\n",
    "   * Colchón arriba\n",
    "\n",
    "Todo lo define la altura útil del cajón, ya que me defino alturas mínimas para las otras cosas que no dependen del diseño.\n"
   ]
  },
  {
   "cell_type": "code",
   "execution_count": 3,
   "id": "6abc6abc-d97d-43be-a16a-a8384c4fcdc5",
   "metadata": {},
   "outputs": [],
   "source": [
    "# dos plazas\n",
    "ancho_cama = 140\n",
    "largo_cama = 190\n",
    "# altura\n",
    "# se calcula en base a varias cosas\n",
    "# en mm\n",
    "alto_rueditas = 15 # https://articulo.mercadolibre.com.uy/MLU-639321402-rueditas-adhesiva-giratoria-muebles-set-x4-und-_JM#polycard_client=search-nordic&search_layout=stack&position=8&type=item&tracking_id=4387314a-b7dc-45ae-b8f5-7e0ee4d4d3a3&wid=MLU639321402&sid=search\n",
    "alto_cajon_soporte = 20 \n",
    "alto_cajon_util    = 200\n",
    "grosor_lamina  = 5 # hay entre 3 y 5. Hay 9 pero es una exageracion\n",
    "grosor_finger      = 20 \n",
    "ancho_agujero_cajon = largo_cama - 2*grosor_fingger \n",
    "ancho_pata         = 80 # 3 pulgadas\n"
   ]
  },
  {
   "cell_type": "code",
   "execution_count": 16,
   "id": "ef42b730-14e6-412e-b64f-4bddc339a08c",
   "metadata": {
    "scrolled": true
   },
   "outputs": [
    {
     "name": "stdout",
     "output_type": "stream",
     "text": [
      "c+\n"
     ]
    },
    {
     "data": {
      "application/vnd.jupyter.widget-view+json": {
       "model_id": "874b19827fe046d993e3429e34b075ed",
       "version_major": 2,
       "version_minor": 0
      },
      "text/plain": [
       "CadViewerWidget(anchor=None, aspect_ratio=0.75, cad_width=800, control='trackball', glass=True, height=600, id…"
      ]
     },
     "metadata": {},
     "output_type": "display_data"
    },
    {
     "data": {
      "text/html": [
       "<div></div>"
      ],
      "text/plain": [
       "<IPython.core.display.HTML object>"
      ]
     },
     "metadata": {},
     "output_type": "display_data"
    },
    {
     "data": {
      "text/plain": [
       "<cad_viewer_widget.widget.CadViewer at 0x7457d1c85a90>"
      ]
     },
     "execution_count": 16,
     "metadata": {},
     "output_type": "execute_result"
    }
   ],
   "source": [
    "rue1 = cq.Workplane().cylinder(10,alto_rueditas)\n",
    "rue2 = cq.Workplane().cylinder(10,alto_rueditas).translate((100,0,0))\n",
    "prof_base_cajon = ancho_cama - 2 * grosor_finger\n",
    "ancho_base_cajon = largo_cama - 2* grosor_finger \n",
    "base_cajon = cq.Workplane().box(prof_base_cajon,ancho_cajon,grosor_lamina)\n",
    "result = cq.Assembly().add(rue1).add(rue2)\n",
    "jcq.show(result)"
   ]
  }
 ],
 "metadata": {
  "kernelspec": {
   "display_name": "Python 3 (ipykernel)",
   "language": "python",
   "name": "python3"
  },
  "language_info": {
   "codemirror_mode": {
    "name": "ipython",
    "version": 3
   },
   "file_extension": ".py",
   "mimetype": "text/x-python",
   "name": "python",
   "nbconvert_exporter": "python",
   "pygments_lexer": "ipython3",
   "version": "3.12.3"
  }
 },
 "nbformat": 4,
 "nbformat_minor": 5
}
