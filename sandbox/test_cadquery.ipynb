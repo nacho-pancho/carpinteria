{
 "cells": [
  {
   "cell_type": "code",
   "execution_count": 2,
   "id": "cda0de46-e8db-4b36-9dd6-4185e84e55cb",
   "metadata": {},
   "outputs": [
    {
     "name": "stdout",
     "output_type": "stream",
     "text": [
      "Overwriting auto display for cadquery Workplane and Shape\n",
      "\n",
      "Versions:\n",
      "- jupyter_cadquery  4.0.2\n",
      "- cad_viewer_widget 3.0.2\n",
      "- open cascade      7.7.2.0\n",
      "\n"
     ]
    }
   ],
   "source": [
    "import cadquery as cq\n",
    "import jupyter_cadquery as jcq\n",
    "jcq.versions()"
   ]
  },
  {
   "cell_type": "code",
   "execution_count": 7,
   "id": "ef42b730-14e6-412e-b64f-4bddc339a08c",
   "metadata": {
    "scrolled": true
   },
   "outputs": [
    {
     "name": "stdout",
     "output_type": "stream",
     "text": [
      "<cadquery.cq.Workplane object at 0x7edb7c077140>\n",
      "+\n"
     ]
    },
    {
     "data": {
      "application/vnd.jupyter.widget-view+json": {
       "model_id": "450573c27e4547d1bdb240a9b9b15d94",
       "version_major": 2,
       "version_minor": 0
      },
      "text/plain": [
       "CadViewerWidget(anchor=None, aspect_ratio=0.75, cad_width=800, control='trackball', glass=True, height=600, id…"
      ]
     },
     "metadata": {},
     "output_type": "display_data"
    },
    {
     "data": {
      "text/html": [
       "<div></div>"
      ],
      "text/plain": [
       "<IPython.core.display.HTML object>"
      ]
     },
     "metadata": {},
     "output_type": "display_data"
    }
   ],
   "source": [
    "work = cq.Workplane('XY')\n",
    "print(work)\n",
    "box = work.box(1,2,3)\n",
    "cv = jcq.show(box)\n"
   ]
  }
 ],
 "metadata": {
  "kernelspec": {
   "display_name": "Python 3 (ipykernel)",
   "language": "python",
   "name": "python3"
  },
  "language_info": {
   "codemirror_mode": {
    "name": "ipython",
    "version": 3
   },
   "file_extension": ".py",
   "mimetype": "text/x-python",
   "name": "python",
   "nbconvert_exporter": "python",
   "pygments_lexer": "ipython3",
   "version": "3.12.3"
  }
 },
 "nbformat": 4,
 "nbformat_minor": 5
}
